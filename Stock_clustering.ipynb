{
 "cells": [
  {
   "cell_type": "code",
   "execution_count": 1,
   "id": "c240e43c-587d-4a90-aa37-4a12b3c6e8ed",
   "metadata": {},
   "outputs": [],
   "source": [
    "import pandas as pd\n",
    "import numpy as np\n",
    "import matplotlib.pyplot as plt\n",
    "import seaborn as sns\n",
    "from sklearn.cluster import KMeans\n",
    "from sklearn.preprocessing import StandardScaler\n",
    "from sklearn.metrics import silhouette_score"
   ]
  },
  {
   "cell_type": "code",
   "execution_count": 390,
   "id": "477f6899-a19a-4a8a-b402-9526a1faf759",
   "metadata": {},
   "outputs": [],
   "source": [
    "df3=pd.read_csv(\"final_data.csv\")"
   ]
  },
  {
   "cell_type": "code",
   "execution_count": 392,
   "id": "d043a6f2-3b01-41dc-a189-62d053bbd727",
   "metadata": {},
   "outputs": [
    {
     "data": {
      "text/html": [
       "<div>\n",
       "<style scoped>\n",
       "    .dataframe tbody tr th:only-of-type {\n",
       "        vertical-align: middle;\n",
       "    }\n",
       "\n",
       "    .dataframe tbody tr th {\n",
       "        vertical-align: top;\n",
       "    }\n",
       "\n",
       "    .dataframe thead th {\n",
       "        text-align: right;\n",
       "    }\n",
       "</style>\n",
       "<table border=\"1\" class=\"dataframe\">\n",
       "  <thead>\n",
       "    <tr style=\"text-align: right;\">\n",
       "      <th></th>\n",
       "      <th>company_name</th>\n",
       "      <th>stock_symbol</th>\n",
       "      <th>market_value</th>\n",
       "      <th>total_shares</th>\n",
       "      <th>shares_outstanding</th>\n",
       "      <th>par_value</th>\n",
       "      <th>price_to_book</th>\n",
       "      <th>dividend_yield</th>\n",
       "      <th>enterprise_value</th>\n",
       "      <th>sector</th>\n",
       "      <th>industry</th>\n",
       "    </tr>\n",
       "  </thead>\n",
       "  <tbody>\n",
       "    <tr>\n",
       "      <th>0</th>\n",
       "      <td>شركة الزيت العربية السعودية</td>\n",
       "      <td>2222</td>\n",
       "      <td>6763900.00</td>\n",
       "      <td>242000.0</td>\n",
       "      <td>6.15</td>\n",
       "      <td>10.0</td>\n",
       "      <td>4.54</td>\n",
       "      <td>6.07</td>\n",
       "      <td>6947990.00</td>\n",
       "      <td>Energy</td>\n",
       "      <td>Oil &amp; Gas Integrated</td>\n",
       "    </tr>\n",
       "    <tr>\n",
       "      <th>1</th>\n",
       "      <td>شركة المصافي العربية السعودية</td>\n",
       "      <td>2030</td>\n",
       "      <td>1110.00</td>\n",
       "      <td>15.0</td>\n",
       "      <td>25.33</td>\n",
       "      <td>10.0</td>\n",
       "      <td>2.92</td>\n",
       "      <td>0.00</td>\n",
       "      <td>774.76</td>\n",
       "      <td>Industrials</td>\n",
       "      <td>Conglomerates</td>\n",
       "    </tr>\n",
       "    <tr>\n",
       "      <th>2</th>\n",
       "      <td>شركة رابغ للتكرير والبتروكيماويات</td>\n",
       "      <td>2380</td>\n",
       "      <td>13585.23</td>\n",
       "      <td>1671.0</td>\n",
       "      <td>6.33</td>\n",
       "      <td>10.0</td>\n",
       "      <td>1.28</td>\n",
       "      <td>0.00</td>\n",
       "      <td>41869.81</td>\n",
       "      <td>Energy</td>\n",
       "      <td>Oil &amp; Gas Refining &amp; Marketing</td>\n",
       "    </tr>\n",
       "  </tbody>\n",
       "</table>\n",
       "</div>"
      ],
      "text/plain": [
       "                        company_name  stock_symbol  market_value  \\\n",
       "0        شركة الزيت العربية السعودية          2222    6763900.00   \n",
       "1      شركة المصافي العربية السعودية          2030       1110.00   \n",
       "2  شركة رابغ للتكرير والبتروكيماويات          2380      13585.23   \n",
       "\n",
       "   total_shares  shares_outstanding  par_value  price_to_book  dividend_yield  \\\n",
       "0      242000.0                6.15       10.0           4.54            6.07   \n",
       "1          15.0               25.33       10.0           2.92            0.00   \n",
       "2        1671.0                6.33       10.0           1.28            0.00   \n",
       "\n",
       "   enterprise_value       sector                        industry  \n",
       "0        6947990.00       Energy            Oil & Gas Integrated  \n",
       "1            774.76  Industrials                   Conglomerates  \n",
       "2          41869.81       Energy  Oil & Gas Refining & Marketing  "
      ]
     },
     "execution_count": 392,
     "metadata": {},
     "output_type": "execute_result"
    }
   ],
   "source": [
    "df3.head(3)"
   ]
  },
  {
   "cell_type": "code",
   "execution_count": 394,
   "id": "4bc668f2-907a-4747-bd4b-ecb4e90b24d0",
   "metadata": {},
   "outputs": [
    {
     "name": "stdout",
     "output_type": "stream",
     "text": [
      "<class 'pandas.core.frame.DataFrame'>\n",
      "RangeIndex: 242 entries, 0 to 241\n",
      "Data columns (total 11 columns):\n",
      " #   Column              Non-Null Count  Dtype  \n",
      "---  ------              --------------  -----  \n",
      " 0   company_name        242 non-null    object \n",
      " 1   stock_symbol        242 non-null    int64  \n",
      " 2   market_value        242 non-null    float64\n",
      " 3   total_shares        242 non-null    float64\n",
      " 4   shares_outstanding  221 non-null    float64\n",
      " 5   par_value           242 non-null    float64\n",
      " 6   price_to_book       242 non-null    float64\n",
      " 7   dividend_yield      242 non-null    float64\n",
      " 8   enterprise_value    242 non-null    float64\n",
      " 9   sector              242 non-null    object \n",
      " 10  industry            88 non-null     object \n",
      "dtypes: float64(7), int64(1), object(3)\n",
      "memory usage: 20.9+ KB\n"
     ]
    }
   ],
   "source": [
    "df3.info()"
   ]
  },
  {
   "cell_type": "code",
   "execution_count": 396,
   "id": "c3265b0d-8656-472d-bc29-efcff8d3789b",
   "metadata": {},
   "outputs": [
    {
     "name": "stdout",
     "output_type": "stream",
     "text": [
      "12\n"
     ]
    }
   ],
   "source": [
    "# Create a dictionary mapping 'stock_symbol' to the value you want to insert\n",
    "missing_values = {\n",
    "    4002:16.39,\n",
    "    4330:8.54,\n",
    "    4336:7.62,\n",
    "    4338:9.00,\n",
    "    4340:8.03,\n",
    "    4339:8.23,\n",
    "    4345:7.33,\n",
    "    4346:7.00,\n",
    "    4020:12.66\n",
    "}\n",
    "\n",
    "\n",
    "# Iterate through the dictionary and update the DataFrame\n",
    "for symbol, value in missing_values.items():\n",
    "    df3.loc[(df3['stock_symbol'] == symbol) & (df3['shares_outstanding'].isnull()), 'shares_outstanding'] = value\n",
    "\n",
    "# Verify that null values are filled\n",
    "print(df3['shares_outstanding'].isnull().sum())  # Should be 0 after filling all\n"
   ]
  },
  {
   "cell_type": "code",
   "execution_count": 398,
   "id": "f7af99c0-f0ad-4a67-87a2-af7d0358a8dc",
   "metadata": {},
   "outputs": [
    {
     "name": "stderr",
     "output_type": "stream",
     "text": [
      "C:\\Users\\ohoud\\AppData\\Local\\Temp\\ipykernel_8696\\1853046519.py:3: FutureWarning:\n",
      "\n",
      "A value is trying to be set on a copy of a DataFrame or Series through chained assignment using an inplace method.\n",
      "The behavior will change in pandas 3.0. This inplace method will never work because the intermediate object on which we are setting values always behaves as a copy.\n",
      "\n",
      "For example, when doing 'df[col].method(value, inplace=True)', try using 'df.method({col: value}, inplace=True)' or df[col] = df[col].method(value) instead, to perform the operation inplace on the original object.\n",
      "\n",
      "\n",
      "\n"
     ]
    }
   ],
   "source": [
    "df3.rename(columns={'shares_outstanding': 'book_value'}, inplace=True)\n",
    "mean_value = df3['book_value'].mean()\n",
    "df3['book_value'].fillna(mean_value, inplace=True)"
   ]
  },
  {
   "cell_type": "code",
   "execution_count": 400,
   "id": "582422e7-b1c4-4d5e-8d04-8e4aa6e7f0d0",
   "metadata": {},
   "outputs": [],
   "source": [
    "df3['market_value_per_share'] = df3['market_value'] / df3['total_shares']\n",
    "df3['ev_to_mv_ratio'] = df3['enterprise_value'] / df3['market_value']\n",
    "df3['dividend_per_share'] = (df3['dividend_yield'] / 100) * df3['market_value'] / df3['total_shares'] "
   ]
  },
  {
   "cell_type": "code",
   "execution_count": 402,
   "id": "77debea9-4546-40ba-95f6-9fa9a8f57155",
   "metadata": {},
   "outputs": [
    {
     "data": {
      "text/html": [
       "<div>\n",
       "<style scoped>\n",
       "    .dataframe tbody tr th:only-of-type {\n",
       "        vertical-align: middle;\n",
       "    }\n",
       "\n",
       "    .dataframe tbody tr th {\n",
       "        vertical-align: top;\n",
       "    }\n",
       "\n",
       "    .dataframe thead th {\n",
       "        text-align: right;\n",
       "    }\n",
       "</style>\n",
       "<table border=\"1\" class=\"dataframe\">\n",
       "  <thead>\n",
       "    <tr style=\"text-align: right;\">\n",
       "      <th></th>\n",
       "      <th>company_name</th>\n",
       "      <th>stock_symbol</th>\n",
       "      <th>market_value</th>\n",
       "      <th>total_shares</th>\n",
       "      <th>book_value</th>\n",
       "      <th>par_value</th>\n",
       "      <th>price_to_book</th>\n",
       "      <th>dividend_yield</th>\n",
       "      <th>enterprise_value</th>\n",
       "      <th>sector</th>\n",
       "      <th>industry</th>\n",
       "      <th>market_value_per_share</th>\n",
       "      <th>ev_to_mv_ratio</th>\n",
       "      <th>dividend_per_share</th>\n",
       "    </tr>\n",
       "  </thead>\n",
       "  <tbody>\n",
       "    <tr>\n",
       "      <th>0</th>\n",
       "      <td>شركة الزيت العربية السعودية</td>\n",
       "      <td>2222</td>\n",
       "      <td>6763900.00</td>\n",
       "      <td>242000.00</td>\n",
       "      <td>6.15</td>\n",
       "      <td>10.0</td>\n",
       "      <td>4.54</td>\n",
       "      <td>6.07</td>\n",
       "      <td>6947990.00</td>\n",
       "      <td>Energy</td>\n",
       "      <td>Oil &amp; Gas Integrated</td>\n",
       "      <td>27.950000</td>\n",
       "      <td>1.027217</td>\n",
       "      <td>1.696565</td>\n",
       "    </tr>\n",
       "    <tr>\n",
       "      <th>1</th>\n",
       "      <td>شركة المصافي العربية السعودية</td>\n",
       "      <td>2030</td>\n",
       "      <td>1110.00</td>\n",
       "      <td>15.00</td>\n",
       "      <td>25.33</td>\n",
       "      <td>10.0</td>\n",
       "      <td>2.92</td>\n",
       "      <td>0.00</td>\n",
       "      <td>774.76</td>\n",
       "      <td>Industrials</td>\n",
       "      <td>Conglomerates</td>\n",
       "      <td>74.000000</td>\n",
       "      <td>0.697982</td>\n",
       "      <td>0.000000</td>\n",
       "    </tr>\n",
       "    <tr>\n",
       "      <th>2</th>\n",
       "      <td>شركة رابغ للتكرير والبتروكيماويات</td>\n",
       "      <td>2380</td>\n",
       "      <td>13585.23</td>\n",
       "      <td>1671.00</td>\n",
       "      <td>6.33</td>\n",
       "      <td>10.0</td>\n",
       "      <td>1.28</td>\n",
       "      <td>0.00</td>\n",
       "      <td>41869.81</td>\n",
       "      <td>Energy</td>\n",
       "      <td>Oil &amp; Gas Refining &amp; Marketing</td>\n",
       "      <td>8.130000</td>\n",
       "      <td>3.082010</td>\n",
       "      <td>0.000000</td>\n",
       "    </tr>\n",
       "    <tr>\n",
       "      <th>3</th>\n",
       "      <td>الشركة الوطنية السعودية للنقل البحري</td>\n",
       "      <td>4030</td>\n",
       "      <td>21077.89</td>\n",
       "      <td>738.28</td>\n",
       "      <td>17.77</td>\n",
       "      <td>10.0</td>\n",
       "      <td>1.61</td>\n",
       "      <td>1.92</td>\n",
       "      <td>27573.13</td>\n",
       "      <td>Industrials</td>\n",
       "      <td>Marine Shipping</td>\n",
       "      <td>28.549995</td>\n",
       "      <td>1.308154</td>\n",
       "      <td>0.548160</td>\n",
       "    </tr>\n",
       "    <tr>\n",
       "      <th>4</th>\n",
       "      <td>شركة الدريس للخدمات البترولية و النقليات</td>\n",
       "      <td>4200</td>\n",
       "      <td>13040.00</td>\n",
       "      <td>100.00</td>\n",
       "      <td>13.90</td>\n",
       "      <td>10.0</td>\n",
       "      <td>9.38</td>\n",
       "      <td>0.57</td>\n",
       "      <td>12967.85</td>\n",
       "      <td>Consumer Cyclical</td>\n",
       "      <td>Specialty Retail</td>\n",
       "      <td>130.400000</td>\n",
       "      <td>0.994467</td>\n",
       "      <td>0.743280</td>\n",
       "    </tr>\n",
       "  </tbody>\n",
       "</table>\n",
       "</div>"
      ],
      "text/plain": [
       "                               company_name  stock_symbol  market_value  \\\n",
       "0               شركة الزيت العربية السعودية          2222    6763900.00   \n",
       "1             شركة المصافي العربية السعودية          2030       1110.00   \n",
       "2         شركة رابغ للتكرير والبتروكيماويات          2380      13585.23   \n",
       "3      الشركة الوطنية السعودية للنقل البحري          4030      21077.89   \n",
       "4  شركة الدريس للخدمات البترولية و النقليات          4200      13040.00   \n",
       "\n",
       "   total_shares  book_value  par_value  price_to_book  dividend_yield  \\\n",
       "0     242000.00        6.15       10.0           4.54            6.07   \n",
       "1         15.00       25.33       10.0           2.92            0.00   \n",
       "2       1671.00        6.33       10.0           1.28            0.00   \n",
       "3        738.28       17.77       10.0           1.61            1.92   \n",
       "4        100.00       13.90       10.0           9.38            0.57   \n",
       "\n",
       "   enterprise_value             sector                        industry  \\\n",
       "0        6947990.00             Energy            Oil & Gas Integrated   \n",
       "1            774.76        Industrials                   Conglomerates   \n",
       "2          41869.81             Energy  Oil & Gas Refining & Marketing   \n",
       "3          27573.13        Industrials                 Marine Shipping   \n",
       "4          12967.85  Consumer Cyclical                Specialty Retail   \n",
       "\n",
       "   market_value_per_share  ev_to_mv_ratio  dividend_per_share  \n",
       "0               27.950000        1.027217            1.696565  \n",
       "1               74.000000        0.697982            0.000000  \n",
       "2                8.130000        3.082010            0.000000  \n",
       "3               28.549995        1.308154            0.548160  \n",
       "4              130.400000        0.994467            0.743280  "
      ]
     },
     "execution_count": 402,
     "metadata": {},
     "output_type": "execute_result"
    }
   ],
   "source": [
    "df3.head(5)"
   ]
  },
  {
   "cell_type": "code",
   "execution_count": 404,
   "id": "1ac13e4c-b324-408b-a655-46df1ed89fe2",
   "metadata": {},
   "outputs": [
    {
     "name": "stdout",
     "output_type": "stream",
     "text": [
      "<class 'pandas.core.frame.DataFrame'>\n",
      "RangeIndex: 242 entries, 0 to 241\n",
      "Data columns (total 14 columns):\n",
      " #   Column                  Non-Null Count  Dtype  \n",
      "---  ------                  --------------  -----  \n",
      " 0   company_name            242 non-null    object \n",
      " 1   stock_symbol            242 non-null    int64  \n",
      " 2   market_value            242 non-null    float64\n",
      " 3   total_shares            242 non-null    float64\n",
      " 4   book_value              242 non-null    float64\n",
      " 5   par_value               242 non-null    float64\n",
      " 6   price_to_book           242 non-null    float64\n",
      " 7   dividend_yield          242 non-null    float64\n",
      " 8   enterprise_value        242 non-null    float64\n",
      " 9   sector                  242 non-null    object \n",
      " 10  industry                88 non-null     object \n",
      " 11  market_value_per_share  242 non-null    float64\n",
      " 12  ev_to_mv_ratio          242 non-null    float64\n",
      " 13  dividend_per_share      242 non-null    float64\n",
      "dtypes: float64(10), int64(1), object(3)\n",
      "memory usage: 26.6+ KB\n"
     ]
    }
   ],
   "source": [
    "df3.info()"
   ]
  },
  {
   "cell_type": "code",
   "execution_count": 407,
   "id": "d99d6b93-7c94-478f-98cb-1ca686b63cf9",
   "metadata": {},
   "outputs": [],
   "source": [
    "df3.to_csv('output_file.csv', index=False)\n"
   ]
  },
  {
   "cell_type": "code",
   "execution_count": 409,
   "id": "5804d842-10b4-4636-915d-315fdb476269",
   "metadata": {},
   "outputs": [],
   "source": [
    "df=pd.read_csv(\"output_file.csv\")"
   ]
  },
  {
   "cell_type": "code",
   "execution_count": 411,
   "id": "1c6ec84c-2db3-457a-890f-e8a8448e6370",
   "metadata": {},
   "outputs": [
    {
     "data": {
      "text/html": [
       "<div>\n",
       "<style scoped>\n",
       "    .dataframe tbody tr th:only-of-type {\n",
       "        vertical-align: middle;\n",
       "    }\n",
       "\n",
       "    .dataframe tbody tr th {\n",
       "        vertical-align: top;\n",
       "    }\n",
       "\n",
       "    .dataframe thead th {\n",
       "        text-align: right;\n",
       "    }\n",
       "</style>\n",
       "<table border=\"1\" class=\"dataframe\">\n",
       "  <thead>\n",
       "    <tr style=\"text-align: right;\">\n",
       "      <th></th>\n",
       "      <th>company_name</th>\n",
       "      <th>stock_symbol</th>\n",
       "      <th>market_value</th>\n",
       "      <th>total_shares</th>\n",
       "      <th>book_value</th>\n",
       "      <th>par_value</th>\n",
       "      <th>price_to_book</th>\n",
       "      <th>dividend_yield</th>\n",
       "      <th>enterprise_value</th>\n",
       "      <th>sector</th>\n",
       "      <th>industry</th>\n",
       "      <th>market_value_per_share</th>\n",
       "      <th>ev_to_mv_ratio</th>\n",
       "      <th>dividend_per_share</th>\n",
       "    </tr>\n",
       "  </thead>\n",
       "  <tbody>\n",
       "    <tr>\n",
       "      <th>0</th>\n",
       "      <td>شركة الزيت العربية السعودية</td>\n",
       "      <td>2222</td>\n",
       "      <td>6763900.00</td>\n",
       "      <td>242000.00</td>\n",
       "      <td>6.15</td>\n",
       "      <td>10.0</td>\n",
       "      <td>4.54</td>\n",
       "      <td>6.07</td>\n",
       "      <td>6947990.00</td>\n",
       "      <td>Energy</td>\n",
       "      <td>Oil &amp; Gas Integrated</td>\n",
       "      <td>27.950000</td>\n",
       "      <td>1.027217</td>\n",
       "      <td>1.696565</td>\n",
       "    </tr>\n",
       "    <tr>\n",
       "      <th>1</th>\n",
       "      <td>شركة المصافي العربية السعودية</td>\n",
       "      <td>2030</td>\n",
       "      <td>1110.00</td>\n",
       "      <td>15.00</td>\n",
       "      <td>25.33</td>\n",
       "      <td>10.0</td>\n",
       "      <td>2.92</td>\n",
       "      <td>0.00</td>\n",
       "      <td>774.76</td>\n",
       "      <td>Industrials</td>\n",
       "      <td>Conglomerates</td>\n",
       "      <td>74.000000</td>\n",
       "      <td>0.697982</td>\n",
       "      <td>0.000000</td>\n",
       "    </tr>\n",
       "    <tr>\n",
       "      <th>2</th>\n",
       "      <td>شركة رابغ للتكرير والبتروكيماويات</td>\n",
       "      <td>2380</td>\n",
       "      <td>13585.23</td>\n",
       "      <td>1671.00</td>\n",
       "      <td>6.33</td>\n",
       "      <td>10.0</td>\n",
       "      <td>1.28</td>\n",
       "      <td>0.00</td>\n",
       "      <td>41869.81</td>\n",
       "      <td>Energy</td>\n",
       "      <td>Oil &amp; Gas Refining &amp; Marketing</td>\n",
       "      <td>8.130000</td>\n",
       "      <td>3.082010</td>\n",
       "      <td>0.000000</td>\n",
       "    </tr>\n",
       "    <tr>\n",
       "      <th>3</th>\n",
       "      <td>الشركة الوطنية السعودية للنقل البحري</td>\n",
       "      <td>4030</td>\n",
       "      <td>21077.89</td>\n",
       "      <td>738.28</td>\n",
       "      <td>17.77</td>\n",
       "      <td>10.0</td>\n",
       "      <td>1.61</td>\n",
       "      <td>1.92</td>\n",
       "      <td>27573.13</td>\n",
       "      <td>Industrials</td>\n",
       "      <td>Marine Shipping</td>\n",
       "      <td>28.549995</td>\n",
       "      <td>1.308154</td>\n",
       "      <td>0.548160</td>\n",
       "    </tr>\n",
       "    <tr>\n",
       "      <th>4</th>\n",
       "      <td>شركة الدريس للخدمات البترولية و النقليات</td>\n",
       "      <td>4200</td>\n",
       "      <td>13040.00</td>\n",
       "      <td>100.00</td>\n",
       "      <td>13.90</td>\n",
       "      <td>10.0</td>\n",
       "      <td>9.38</td>\n",
       "      <td>0.57</td>\n",
       "      <td>12967.85</td>\n",
       "      <td>Consumer Cyclical</td>\n",
       "      <td>Specialty Retail</td>\n",
       "      <td>130.400000</td>\n",
       "      <td>0.994467</td>\n",
       "      <td>0.743280</td>\n",
       "    </tr>\n",
       "  </tbody>\n",
       "</table>\n",
       "</div>"
      ],
      "text/plain": [
       "                               company_name  stock_symbol  market_value  \\\n",
       "0               شركة الزيت العربية السعودية          2222    6763900.00   \n",
       "1             شركة المصافي العربية السعودية          2030       1110.00   \n",
       "2         شركة رابغ للتكرير والبتروكيماويات          2380      13585.23   \n",
       "3      الشركة الوطنية السعودية للنقل البحري          4030      21077.89   \n",
       "4  شركة الدريس للخدمات البترولية و النقليات          4200      13040.00   \n",
       "\n",
       "   total_shares  book_value  par_value  price_to_book  dividend_yield  \\\n",
       "0     242000.00        6.15       10.0           4.54            6.07   \n",
       "1         15.00       25.33       10.0           2.92            0.00   \n",
       "2       1671.00        6.33       10.0           1.28            0.00   \n",
       "3        738.28       17.77       10.0           1.61            1.92   \n",
       "4        100.00       13.90       10.0           9.38            0.57   \n",
       "\n",
       "   enterprise_value             sector                        industry  \\\n",
       "0        6947990.00             Energy            Oil & Gas Integrated   \n",
       "1            774.76        Industrials                   Conglomerates   \n",
       "2          41869.81             Energy  Oil & Gas Refining & Marketing   \n",
       "3          27573.13        Industrials                 Marine Shipping   \n",
       "4          12967.85  Consumer Cyclical                Specialty Retail   \n",
       "\n",
       "   market_value_per_share  ev_to_mv_ratio  dividend_per_share  \n",
       "0               27.950000        1.027217            1.696565  \n",
       "1               74.000000        0.697982            0.000000  \n",
       "2                8.130000        3.082010            0.000000  \n",
       "3               28.549995        1.308154            0.548160  \n",
       "4              130.400000        0.994467            0.743280  "
      ]
     },
     "execution_count": 411,
     "metadata": {},
     "output_type": "execute_result"
    }
   ],
   "source": [
    "df.head(5)"
   ]
  },
  {
   "cell_type": "code",
   "execution_count": 413,
   "id": "4a5022d1-15b6-49ab-98a9-2f4eb362a111",
   "metadata": {},
   "outputs": [
    {
     "name": "stdout",
     "output_type": "stream",
     "text": [
      "<class 'pandas.core.frame.DataFrame'>\n",
      "RangeIndex: 242 entries, 0 to 241\n",
      "Data columns (total 14 columns):\n",
      " #   Column                  Non-Null Count  Dtype  \n",
      "---  ------                  --------------  -----  \n",
      " 0   company_name            242 non-null    object \n",
      " 1   stock_symbol            242 non-null    int64  \n",
      " 2   market_value            242 non-null    float64\n",
      " 3   total_shares            242 non-null    float64\n",
      " 4   book_value              242 non-null    float64\n",
      " 5   par_value               242 non-null    float64\n",
      " 6   price_to_book           242 non-null    float64\n",
      " 7   dividend_yield          242 non-null    float64\n",
      " 8   enterprise_value        242 non-null    float64\n",
      " 9   sector                  242 non-null    object \n",
      " 10  industry                88 non-null     object \n",
      " 11  market_value_per_share  242 non-null    float64\n",
      " 12  ev_to_mv_ratio          242 non-null    float64\n",
      " 13  dividend_per_share      242 non-null    float64\n",
      "dtypes: float64(10), int64(1), object(3)\n",
      "memory usage: 26.6+ KB\n"
     ]
    }
   ],
   "source": [
    "df.info()"
   ]
  },
  {
   "cell_type": "code",
   "execution_count": null,
   "id": "485dcd54-9463-4448-91c4-6797fe9eff71",
   "metadata": {},
   "outputs": [],
   "source": [
    "from sklearn.preprocessing import LabelEncoder\n",
    "\n",
    "le = LabelEncoder()\n",
    "df['encoded_sector'] = le.fit_transform(df['sector'])"
   ]
  },
  {
   "cell_type": "code",
   "execution_count": 417,
   "id": "a5a8a766-4d28-4a7f-95db-96273fe01b53",
   "metadata": {},
   "outputs": [
    {
     "name": "stdout",
     "output_type": "stream",
     "text": [
      "<class 'pandas.core.frame.DataFrame'>\n",
      "RangeIndex: 242 entries, 0 to 241\n",
      "Data columns (total 15 columns):\n",
      " #   Column                  Non-Null Count  Dtype  \n",
      "---  ------                  --------------  -----  \n",
      " 0   company_name            242 non-null    object \n",
      " 1   stock_symbol            242 non-null    int64  \n",
      " 2   market_value            242 non-null    float64\n",
      " 3   total_shares            242 non-null    float64\n",
      " 4   book_value              242 non-null    float64\n",
      " 5   par_value               242 non-null    float64\n",
      " 6   price_to_book           242 non-null    float64\n",
      " 7   dividend_yield          242 non-null    float64\n",
      " 8   enterprise_value        242 non-null    float64\n",
      " 9   sector                  242 non-null    object \n",
      " 10  industry                88 non-null     object \n",
      " 11  market_value_per_share  242 non-null    float64\n",
      " 12  ev_to_mv_ratio          242 non-null    float64\n",
      " 13  dividend_per_share      242 non-null    float64\n",
      " 14  encoded_sector          242 non-null    int32  \n",
      "dtypes: float64(10), int32(1), int64(1), object(3)\n",
      "memory usage: 27.5+ KB\n"
     ]
    }
   ],
   "source": [
    "df.info()"
   ]
  },
  {
   "cell_type": "code",
   "execution_count": null,
   "id": "0bc6e695-1cbc-43d6-a9ad-b8ff4538e0f9",
   "metadata": {},
   "outputs": [],
   "source": [
    "import pandas as pd\n",
    "from sklearn.cluster import KMeans\n",
    "from sklearn.preprocessing import StandardScaler\n",
    "import matplotlib.pyplot as plt"
   ]
  },
  {
   "cell_type": "code",
   "execution_count": 421,
   "id": "d3788397-e553-4dc8-abf9-1cdb805cb24a",
   "metadata": {},
   "outputs": [],
   "source": [
    "# Load the data (assuming it's already in a DataFrame called `df`)\n",
    "numeric_features = ['market_value_per_share', 'ev_to_mv_ratio', 'dividend_per_share', \n",
    "                    'encoded_sector']\n",
    "\n",
    "# Drop rows with missing values (optional, if you want to include `industry`)\n",
    "df_cleaned = df[numeric_features].dropna()\n",
    "\n",
    "# Normalize the data\n",
    "scaler = StandardScaler()\n",
    "X_scaled = scaler.fit_transform(df_cleaned)\n"
   ]
  },
  {
   "cell_type": "code",
   "execution_count": 423,
   "id": "afb0e40a-c1ad-4256-94a4-8a3532b66497",
   "metadata": {},
   "outputs": [
    {
     "name": "stderr",
     "output_type": "stream",
     "text": [
      "C:\\Users\\ohoud\\anaconda3\\Lib\\site-packages\\sklearn\\cluster\\_kmeans.py:1446: UserWarning:\n",
      "\n",
      "KMeans is known to have a memory leak on Windows with MKL, when there are less chunks than available threads. You can avoid it by setting the environment variable OMP_NUM_THREADS=1.\n",
      "\n",
      "C:\\Users\\ohoud\\anaconda3\\Lib\\site-packages\\sklearn\\cluster\\_kmeans.py:1446: UserWarning:\n",
      "\n",
      "KMeans is known to have a memory leak on Windows with MKL, when there are less chunks than available threads. You can avoid it by setting the environment variable OMP_NUM_THREADS=1.\n",
      "\n",
      "C:\\Users\\ohoud\\anaconda3\\Lib\\site-packages\\sklearn\\cluster\\_kmeans.py:1446: UserWarning:\n",
      "\n",
      "KMeans is known to have a memory leak on Windows with MKL, when there are less chunks than available threads. You can avoid it by setting the environment variable OMP_NUM_THREADS=1.\n",
      "\n",
      "C:\\Users\\ohoud\\anaconda3\\Lib\\site-packages\\sklearn\\cluster\\_kmeans.py:1446: UserWarning:\n",
      "\n",
      "KMeans is known to have a memory leak on Windows with MKL, when there are less chunks than available threads. You can avoid it by setting the environment variable OMP_NUM_THREADS=1.\n",
      "\n",
      "C:\\Users\\ohoud\\anaconda3\\Lib\\site-packages\\sklearn\\cluster\\_kmeans.py:1446: UserWarning:\n",
      "\n",
      "KMeans is known to have a memory leak on Windows with MKL, when there are less chunks than available threads. You can avoid it by setting the environment variable OMP_NUM_THREADS=1.\n",
      "\n",
      "C:\\Users\\ohoud\\anaconda3\\Lib\\site-packages\\sklearn\\cluster\\_kmeans.py:1446: UserWarning:\n",
      "\n",
      "KMeans is known to have a memory leak on Windows with MKL, when there are less chunks than available threads. You can avoid it by setting the environment variable OMP_NUM_THREADS=1.\n",
      "\n",
      "C:\\Users\\ohoud\\anaconda3\\Lib\\site-packages\\sklearn\\cluster\\_kmeans.py:1446: UserWarning:\n",
      "\n",
      "KMeans is known to have a memory leak on Windows with MKL, when there are less chunks than available threads. You can avoid it by setting the environment variable OMP_NUM_THREADS=1.\n",
      "\n",
      "C:\\Users\\ohoud\\anaconda3\\Lib\\site-packages\\sklearn\\cluster\\_kmeans.py:1446: UserWarning:\n",
      "\n",
      "KMeans is known to have a memory leak on Windows with MKL, when there are less chunks than available threads. You can avoid it by setting the environment variable OMP_NUM_THREADS=1.\n",
      "\n",
      "C:\\Users\\ohoud\\anaconda3\\Lib\\site-packages\\sklearn\\cluster\\_kmeans.py:1446: UserWarning:\n",
      "\n",
      "KMeans is known to have a memory leak on Windows with MKL, when there are less chunks than available threads. You can avoid it by setting the environment variable OMP_NUM_THREADS=1.\n",
      "\n",
      "C:\\Users\\ohoud\\anaconda3\\Lib\\site-packages\\sklearn\\cluster\\_kmeans.py:1446: UserWarning:\n",
      "\n",
      "KMeans is known to have a memory leak on Windows with MKL, when there are less chunks than available threads. You can avoid it by setting the environment variable OMP_NUM_THREADS=1.\n",
      "\n"
     ]
    },
    {
     "data": {
      "image/png": "[encoded data removed]",
      "text/plain": [
       "<Figure size 800x500 with 1 Axes>"
      ]
     },
     "metadata": {},
     "output_type": "display_data"
    }
   ],
   "source": [
    "# Elbow method to find the optimal number of clusters\n",
    "inertia = []\n",
    "k_range = range(1, 11)  # Test for k=1 to k=10\n",
    "\n",
    "for k in k_range:\n",
    "    kmeans = KMeans(n_clusters=k, random_state=42)\n",
    "    kmeans.fit(X_scaled)\n",
    "    inertia.append(kmeans.inertia_)\n",
    "\n",
    "# Plot the elbow curve\n",
    "plt.figure(figsize=(8, 5))\n",
    "plt.plot(k_range, inertia, marker='o')\n",
    "plt.title('Elbow Method')\n",
    "plt.xlabel('Number of Clusters')\n",
    "plt.ylabel('Inertia')\n",
    "plt.show()\n"
   ]
  },
  {
   "cell_type": "code",
   "execution_count": 425,
   "id": "a1733272-d96d-4898-a7c7-7eb38dc43a05",
   "metadata": {},
   "outputs": [
    {
     "name": "stderr",
     "output_type": "stream",
     "text": [
      "C:\\Users\\ohoud\\anaconda3\\Lib\\site-packages\\sklearn\\cluster\\_kmeans.py:1446: UserWarning:\n",
      "\n",
      "KMeans is known to have a memory leak on Windows with MKL, when there are less chunks than available threads. You can avoid it by setting the environment variable OMP_NUM_THREADS=1.\n",
      "\n"
     ]
    }
   ],
   "source": [
    "# Apply KMeans with the optimal number of clusters (e.g., k=3)\n",
    "optimal_k = 3\n",
    "kmeans = KMeans(n_clusters=optimal_k, random_state=42)\n",
    "df_cleaned['cluster'] = kmeans.fit_predict(X_scaled)\n",
    "\n",
    "# Add the cluster labels to the original DataFrame\n",
    "df['cluster'] = kmeans.labels_\n"
   ]
  },
  {
   "cell_type": "code",
   "execution_count": 427,
   "id": "58695d00-50e5-43ed-a701-4faf7b995875",
   "metadata": {},
   "outputs": [
    {
     "name": "stdout",
     "output_type": "stream",
     "text": [
      "cluster\n",
      "1    124\n",
      "0    105\n",
      "2     13\n",
      "Name: count, dtype: int64\n"
     ]
    }
   ],
   "source": [
    "print(df['cluster'].value_counts())\n"
   ]
  },
  {
   "cell_type": "code",
   "execution_count": 429,
   "id": "e747abfb-20eb-4f56-946f-9299fb81a041",
   "metadata": {},
   "outputs": [
    {
     "name": "stdout",
     "output_type": "stream",
     "text": [
      "Silhouette Score: 0.4204352736186376\n"
     ]
    }
   ],
   "source": [
    "from sklearn.metrics import silhouette_score\n",
    "\n",
    "# Calculate silhouette score\n",
    "sil_score = silhouette_score(X_scaled, kmeans.labels_)\n",
    "print(f\"Silhouette Score: {sil_score}\")\n"
   ]
  },
  {
   "cell_type": "code",
   "execution_count": 431,
   "id": "1ea8eeb3-9383-454c-b483-24fbbcb26490",
   "metadata": {},
   "outputs": [
    {
     "data": {
      "image/png": "[encoded data removed]",
      "text/plain": [
       "<Figure size 1000x800 with 1 Axes>"
      ]
     },
     "metadata": {},
     "output_type": "display_data"
    }
   ],
   "source": [
    "import matplotlib.pyplot as plt\n",
    "import seaborn as sns\n",
    "from sklearn.decomposition import PCA\n",
    "\n",
    "# Apply PCA to reduce dimensions to 2\n",
    "pca = PCA(n_components=2)\n",
    "X_pca = pca.fit_transform(X_scaled)\n",
    "\n",
    "# Add PCA components and cluster labels to a DataFrame\n",
    "df_visualization = pd.DataFrame(X_pca, columns=['PCA1', 'PCA2'])\n",
    "df_visualization['Cluster'] = kmeans.labels_\n",
    "\n",
    "# Scatter plot of the clusters\n",
    "plt.figure(figsize=(10, 8))\n",
    "sns.scatterplot(data=df_visualization, x='PCA1', y='PCA2', hue='Cluster', palette='viridis', s=100)\n",
    "plt.title('KMeans Clusters Visualization in 2D', fontsize=16)\n",
    "plt.xlabel('Principal Component 1', fontsize=12)\n",
    "plt.ylabel('Principal Component 2', fontsize=12)\n",
    "plt.legend(title='Cluster')\n",
    "plt.show()\n"
   ]
  },
  {
   "cell_type": "code",
   "execution_count": 433,
   "id": "57305a5f-de30-48e4-b8a7-0569923f9bc5",
   "metadata": {},
   "outputs": [
    {
     "data": {
      "text/html": [
       "<div>\n",
       "<style scoped>\n",
       "    .dataframe tbody tr th:only-of-type {\n",
       "        vertical-align: middle;\n",
       "    }\n",
       "\n",
       "    .dataframe tbody tr th {\n",
       "        vertical-align: top;\n",
       "    }\n",
       "\n",
       "    .dataframe thead th {\n",
       "        text-align: right;\n",
       "    }\n",
       "</style>\n",
       "<table border=\"1\" class=\"dataframe\">\n",
       "  <thead>\n",
       "    <tr style=\"text-align: right;\">\n",
       "      <th></th>\n",
       "      <th>company_name</th>\n",
       "      <th>stock_symbol</th>\n",
       "      <th>market_value</th>\n",
       "      <th>total_shares</th>\n",
       "      <th>book_value</th>\n",
       "      <th>par_value</th>\n",
       "      <th>price_to_book</th>\n",
       "      <th>dividend_yield</th>\n",
       "      <th>enterprise_value</th>\n",
       "      <th>sector</th>\n",
       "      <th>industry</th>\n",
       "      <th>market_value_per_share</th>\n",
       "      <th>ev_to_mv_ratio</th>\n",
       "      <th>dividend_per_share</th>\n",
       "      <th>encoded_sector</th>\n",
       "      <th>cluster</th>\n",
       "    </tr>\n",
       "  </thead>\n",
       "  <tbody>\n",
       "    <tr>\n",
       "      <th>0</th>\n",
       "      <td>شركة الزيت العربية السعودية</td>\n",
       "      <td>2222</td>\n",
       "      <td>6763900.0</td>\n",
       "      <td>242000.0</td>\n",
       "      <td>6.15</td>\n",
       "      <td>10.0</td>\n",
       "      <td>4.54</td>\n",
       "      <td>6.07</td>\n",
       "      <td>6947990.00</td>\n",
       "      <td>Energy</td>\n",
       "      <td>Oil &amp; Gas Integrated</td>\n",
       "      <td>27.95</td>\n",
       "      <td>1.027217</td>\n",
       "      <td>1.696565</td>\n",
       "      <td>4</td>\n",
       "      <td>0</td>\n",
       "    </tr>\n",
       "    <tr>\n",
       "      <th>1</th>\n",
       "      <td>شركة المصافي العربية السعودية</td>\n",
       "      <td>2030</td>\n",
       "      <td>1110.0</td>\n",
       "      <td>15.0</td>\n",
       "      <td>25.33</td>\n",
       "      <td>10.0</td>\n",
       "      <td>2.92</td>\n",
       "      <td>0.00</td>\n",
       "      <td>774.76</td>\n",
       "      <td>Industrials</td>\n",
       "      <td>Conglomerates</td>\n",
       "      <td>74.00</td>\n",
       "      <td>0.697982</td>\n",
       "      <td>0.000000</td>\n",
       "      <td>7</td>\n",
       "      <td>1</td>\n",
       "    </tr>\n",
       "  </tbody>\n",
       "</table>\n",
       "</div>"
      ],
      "text/plain": [
       "                    company_name  stock_symbol  market_value  total_shares  \\\n",
       "0    شركة الزيت العربية السعودية          2222     6763900.0      242000.0   \n",
       "1  شركة المصافي العربية السعودية          2030        1110.0          15.0   \n",
       "\n",
       "   book_value  par_value  price_to_book  dividend_yield  enterprise_value  \\\n",
       "0        6.15       10.0           4.54            6.07        6947990.00   \n",
       "1       25.33       10.0           2.92            0.00            774.76   \n",
       "\n",
       "        sector              industry  market_value_per_share  ev_to_mv_ratio  \\\n",
       "0       Energy  Oil & Gas Integrated                   27.95        1.027217   \n",
       "1  Industrials         Conglomerates                   74.00        0.697982   \n",
       "\n",
       "   dividend_per_share  encoded_sector  cluster  \n",
       "0            1.696565               4        0  \n",
       "1            0.000000               7        1  "
      ]
     },
     "execution_count": 433,
     "metadata": {},
     "output_type": "execute_result"
    }
   ],
   "source": [
    "df.head(2)"
   ]
  },
  {
   "cell_type": "code",
   "execution_count": 435,
   "id": "af50d560-a217-4b1c-a64a-1c083161fef3",
   "metadata": {},
   "outputs": [
    {
     "name": "stdout",
     "output_type": "stream",
     "text": [
      "         stock_symbol  market_value  total_shares  book_value  par_value  \\\n",
      "cluster                                                                    \n",
      "0         3508.333333  75570.513619   2709.960476   13.878190  10.261905   \n",
      "1         4341.233871  14597.259435    461.541855   13.051572   9.302500   \n",
      "2         3767.076923  53839.627692    198.556154   32.855699  10.000000   \n",
      "\n",
      "         price_to_book  dividend_yield  enterprise_value  \\\n",
      "cluster                                                    \n",
      "0             3.884381        1.671714      78570.454286   \n",
      "1             3.144919        2.026774      22871.797581   \n",
      "2             8.834615        2.884615      54950.972308   \n",
      "\n",
      "         market_value_per_share  ev_to_mv_ratio  dividend_per_share  \n",
      "cluster                                                              \n",
      "0                     44.939696        1.149926            0.687148  \n",
      "1                     37.328432        9.758784            0.581866  \n",
      "2                    286.523876        0.986031            5.401975  \n"
     ]
    }
   ],
   "source": [
    "# Select only numeric columns\n",
    "numeric_columns = df.select_dtypes(include=['float64', 'int64'])\n",
    "\n",
    "# Add the cluster column for grouping\n",
    "numeric_columns['cluster'] = df['cluster']\n",
    "\n",
    "# Calculate the mean for each cluster\n",
    "cluster_means = numeric_columns.groupby('cluster').mean()\n",
    "\n",
    "# Display the results\n",
    "print(cluster_means)\n"
   ]
  },
  {
   "cell_type": "code",
   "execution_count": 437,
   "id": "8d71f33d-201c-45e5-81f5-60fe7c5766ed",
   "metadata": {},
   "outputs": [
    {
     "name": "stdout",
     "output_type": "stream",
     "text": [
      "         market_value_per_share  ev_to_mv_ratio  dividend_per_share  \\\n",
      "cluster                                                               \n",
      "0                     44.939696        1.149926            0.687148   \n",
      "1                     37.328432        9.758784            0.581866   \n",
      "2                    286.523876        0.986031            5.401975   \n",
      "\n",
      "         encoded_sector  \n",
      "cluster                  \n",
      "0              1.514286  \n",
      "1              6.564516  \n",
      "2              4.769231  \n"
     ]
    }
   ],
   "source": [
    "# Calculate the mean for the selected columns per cluster\n",
    "cluster_means_selected = df.groupby('cluster')[['market_value_per_share', 'ev_to_mv_ratio', 'dividend_per_share', 'encoded_sector']].mean()\n",
    "\n",
    "# Display the results\n",
    "print(cluster_means_selected)"
   ]
  },
  {
   "cell_type": "code",
   "execution_count": 439,
   "id": "5f3b34bd-05e6-453a-bf26-8e1045e9e2bd",
   "metadata": {},
   "outputs": [],
   "source": [
    "df.to_csv('clustered_data.csv', index=False)\n"
   ]
  },
  {
   "cell_type": "code",
   "execution_count": 441,
   "id": "6f24fc32-2e25-40f9-84a9-75a96c13b7e7",
   "metadata": {},
   "outputs": [
    {
     "name": "stdout",
     "output_type": "stream",
     "text": [
      "sector   Basic Materials  Communication Services  Consumer Cyclical  \\\n",
      "cluster                                                               \n",
      "0                     36                       9                 32   \n",
      "1                      0                       0                  0   \n",
      "2                      1                       1                  1   \n",
      "\n",
      "sector   Consumer Defensive  Energy  Financial Services  Healthcare  \\\n",
      "cluster                                                               \n",
      "0                        26       2                   0           0   \n",
      "1                         0       2                  40          13   \n",
      "2                         1       2                   2           2   \n",
      "\n",
      "sector   Industrials  Real Estate  Technology  Utilities  \n",
      "cluster                                                   \n",
      "0                  0            0           0          0  \n",
      "1                 34           28           4          3  \n",
      "2                  1            0           1          1  \n"
     ]
    }
   ],
   "source": [
    "# Group by 'cluster' and 'encoded_sector' (or 'sector' if you want the original sector names)\n",
    "sector_cluster_counts = df.groupby(['cluster', 'sector']).size().unstack(fill_value=0)\n",
    "\n",
    "# Display the counts for each cluster and sector\n",
    "print(sector_cluster_counts)\n"
   ]
  },
  {
   "cell_type": "markdown",
   "id": "d3d143e4-f10d-40ed-8168-f45eb2c79d96",
   "metadata": {},
   "source": [
    "-----------------------------------------------------------"
   ]
  }
 ],
 "metadata": {
  "kernelspec": {
   "display_name": "base",
   "language": "python",
   "name": "python3"
  },
  "language_info": {
   "codemirror_mode": {
    "name": "ipython",
    "version": 3
   },
   "file_extension": ".py",
   "mimetype": "text/x-python",
   "name": "python",
   "nbconvert_exporter": "python",
   "pygments_lexer": "ipython3",
   "version": "3.11.5"
  }
 },
 "nbformat": 4,
 "nbformat_minor": 5
}
